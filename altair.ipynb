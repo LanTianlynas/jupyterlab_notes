{
 "cells": [
  {
   "cell_type": "markdown",
   "id": "39ef6c6a-2cac-4785-8c2e-185209d77d50",
   "metadata": {},
   "source": [
    "https://altair-viz.github.io/index.html"
   ]
  },
  {
   "cell_type": "code",
   "execution_count": 1,
   "id": "ae59bbaa-b8ba-4b73-aa87-8cd002ce79f3",
   "metadata": {
    "tags": []
   },
   "outputs": [
    {
     "data": {
      "text/html": [
       "\n",
       "<style>\n",
       "  #altair-viz-36a2f5d3c8fd4204a46f4fb216c0e92a.vega-embed {\n",
       "    width: 100%;\n",
       "    display: flex;\n",
       "  }\n",
       "\n",
       "  #altair-viz-36a2f5d3c8fd4204a46f4fb216c0e92a.vega-embed details,\n",
       "  #altair-viz-36a2f5d3c8fd4204a46f4fb216c0e92a.vega-embed details summary {\n",
       "    position: relative;\n",
       "  }\n",
       "</style>\n",
       "<div id=\"altair-viz-36a2f5d3c8fd4204a46f4fb216c0e92a\"></div>\n",
       "<script type=\"text/javascript\">\n",
       "  var VEGA_DEBUG = (typeof VEGA_DEBUG == \"undefined\") ? {} : VEGA_DEBUG;\n",
       "  (function(spec, embedOpt){\n",
       "    let outputDiv = document.currentScript.previousElementSibling;\n",
       "    if (outputDiv.id !== \"altair-viz-36a2f5d3c8fd4204a46f4fb216c0e92a\") {\n",
       "      outputDiv = document.getElementById(\"altair-viz-36a2f5d3c8fd4204a46f4fb216c0e92a\");\n",
       "    }\n",
       "    const paths = {\n",
       "      \"vega\": \"https://cdn.jsdelivr.net/npm/vega@5?noext\",\n",
       "      \"vega-lib\": \"https://cdn.jsdelivr.net/npm/vega-lib?noext\",\n",
       "      \"vega-lite\": \"https://cdn.jsdelivr.net/npm/vega-lite@5.16.3?noext\",\n",
       "      \"vega-embed\": \"https://cdn.jsdelivr.net/npm/vega-embed@6?noext\",\n",
       "    };\n",
       "\n",
       "    function maybeLoadScript(lib, version) {\n",
       "      var key = `${lib.replace(\"-\", \"\")}_version`;\n",
       "      return (VEGA_DEBUG[key] == version) ?\n",
       "        Promise.resolve(paths[lib]) :\n",
       "        new Promise(function(resolve, reject) {\n",
       "          var s = document.createElement('script');\n",
       "          document.getElementsByTagName(\"head\")[0].appendChild(s);\n",
       "          s.async = true;\n",
       "          s.onload = () => {\n",
       "            VEGA_DEBUG[key] = version;\n",
       "            return resolve(paths[lib]);\n",
       "          };\n",
       "          s.onerror = () => reject(`Error loading script: ${paths[lib]}`);\n",
       "          s.src = paths[lib];\n",
       "        });\n",
       "    }\n",
       "\n",
       "    function showError(err) {\n",
       "      outputDiv.innerHTML = `<div class=\"error\" style=\"color:red;\">${err}</div>`;\n",
       "      throw err;\n",
       "    }\n",
       "\n",
       "    function displayChart(vegaEmbed) {\n",
       "      vegaEmbed(outputDiv, spec, embedOpt)\n",
       "        .catch(err => showError(`Javascript Error: ${err.message}<br>This usually means there's a typo in your chart specification. See the javascript console for the full traceback.`));\n",
       "    }\n",
       "\n",
       "    if(typeof define === \"function\" && define.amd) {\n",
       "      requirejs.config({paths});\n",
       "      require([\"vega-embed\"], displayChart, err => showError(`Error loading script: ${err.message}`));\n",
       "    } else {\n",
       "      maybeLoadScript(\"vega\", \"5\")\n",
       "        .then(() => maybeLoadScript(\"vega-lite\", \"5.16.3\"))\n",
       "        .then(() => maybeLoadScript(\"vega-embed\", \"6\"))\n",
       "        .catch(showError)\n",
       "        .then(() => displayChart(vegaEmbed));\n",
       "    }\n",
       "  })({\"config\": {\"view\": {\"continuousWidth\": 300, \"continuousHeight\": 300}}, \"data\": {\"url\": \"https://cdn.jsdelivr.net/npm/vega-datasets@v1.29.0/data/zipcodes.csv\"}, \"mark\": {\"type\": \"circle\", \"size\": 3}, \"encoding\": {\"color\": {\"field\": \"leading digit\", \"type\": \"nominal\"}, \"latitude\": {\"field\": \"latitude\", \"type\": \"quantitative\"}, \"longitude\": {\"field\": \"longitude\", \"type\": \"quantitative\"}, \"tooltip\": {\"field\": \"zip_code\", \"type\": \"nominal\"}}, \"height\": 400, \"projection\": {\"type\": \"albersUsa\"}, \"transform\": [{\"calculate\": \"substring(datum.zip_code,0,1)\", \"as\": \"leading digit\"}], \"width\": 650, \"$schema\": \"https://vega.github.io/schema/vega-lite/v5.16.3.json\"}, {\"mode\": \"vega-lite\"});\n",
       "</script>"
      ],
      "text/plain": [
       "alt.Chart(...)"
      ]
     },
     "execution_count": 1,
     "metadata": {},
     "output_type": "execute_result"
    }
   ],
   "source": [
    "import altair as alt\n",
    "from vega_datasets import data\n",
    "\n",
    "# Since the data is more than 5,000 rows we'll import it from a URL\n",
    "source = data.zipcodes.url\n",
    "\n",
    "alt.Chart(source).transform_calculate(\n",
    "    \"leading digit\", alt.expr.substring(alt.datum.zip_code, 0, 1)\n",
    ").mark_circle(size=3).encode(\n",
    "    longitude='longitude:Q',\n",
    "    latitude='latitude:Q',\n",
    "    color='leading digit:N',\n",
    "    tooltip='zip_code:N'\n",
    ").project(\n",
    "    type='albersUsa'\n",
    ").properties(\n",
    "    width=650,\n",
    "    height=400\n",
    ")"
   ]
  },
  {
   "cell_type": "code",
   "execution_count": 2,
   "id": "af3c95fe-5122-4ed6-a8c0-67d510902493",
   "metadata": {
    "tags": []
   },
   "outputs": [
    {
     "data": {
      "text/html": [
       "\n",
       "<style>\n",
       "  #altair-viz-2dff3b8c571e4143af1dfda643a11423.vega-embed {\n",
       "    width: 100%;\n",
       "    display: flex;\n",
       "  }\n",
       "\n",
       "  #altair-viz-2dff3b8c571e4143af1dfda643a11423.vega-embed details,\n",
       "  #altair-viz-2dff3b8c571e4143af1dfda643a11423.vega-embed details summary {\n",
       "    position: relative;\n",
       "  }\n",
       "</style>\n",
       "<div id=\"altair-viz-2dff3b8c571e4143af1dfda643a11423\"></div>\n",
       "<script type=\"text/javascript\">\n",
       "  var VEGA_DEBUG = (typeof VEGA_DEBUG == \"undefined\") ? {} : VEGA_DEBUG;\n",
       "  (function(spec, embedOpt){\n",
       "    let outputDiv = document.currentScript.previousElementSibling;\n",
       "    if (outputDiv.id !== \"altair-viz-2dff3b8c571e4143af1dfda643a11423\") {\n",
       "      outputDiv = document.getElementById(\"altair-viz-2dff3b8c571e4143af1dfda643a11423\");\n",
       "    }\n",
       "    const paths = {\n",
       "      \"vega\": \"https://cdn.jsdelivr.net/npm/vega@5?noext\",\n",
       "      \"vega-lib\": \"https://cdn.jsdelivr.net/npm/vega-lib?noext\",\n",
       "      \"vega-lite\": \"https://cdn.jsdelivr.net/npm/vega-lite@5.16.3?noext\",\n",
       "      \"vega-embed\": \"https://cdn.jsdelivr.net/npm/vega-embed@6?noext\",\n",
       "    };\n",
       "\n",
       "    function maybeLoadScript(lib, version) {\n",
       "      var key = `${lib.replace(\"-\", \"\")}_version`;\n",
       "      return (VEGA_DEBUG[key] == version) ?\n",
       "        Promise.resolve(paths[lib]) :\n",
       "        new Promise(function(resolve, reject) {\n",
       "          var s = document.createElement('script');\n",
       "          document.getElementsByTagName(\"head\")[0].appendChild(s);\n",
       "          s.async = true;\n",
       "          s.onload = () => {\n",
       "            VEGA_DEBUG[key] = version;\n",
       "            return resolve(paths[lib]);\n",
       "          };\n",
       "          s.onerror = () => reject(`Error loading script: ${paths[lib]}`);\n",
       "          s.src = paths[lib];\n",
       "        });\n",
       "    }\n",
       "\n",
       "    function showError(err) {\n",
       "      outputDiv.innerHTML = `<div class=\"error\" style=\"color:red;\">${err}</div>`;\n",
       "      throw err;\n",
       "    }\n",
       "\n",
       "    function displayChart(vegaEmbed) {\n",
       "      vegaEmbed(outputDiv, spec, embedOpt)\n",
       "        .catch(err => showError(`Javascript Error: ${err.message}<br>This usually means there's a typo in your chart specification. See the javascript console for the full traceback.`));\n",
       "    }\n",
       "\n",
       "    if(typeof define === \"function\" && define.amd) {\n",
       "      requirejs.config({paths});\n",
       "      require([\"vega-embed\"], displayChart, err => showError(`Error loading script: ${err.message}`));\n",
       "    } else {\n",
       "      maybeLoadScript(\"vega\", \"5\")\n",
       "        .then(() => maybeLoadScript(\"vega-lite\", \"5.16.3\"))\n",
       "        .then(() => maybeLoadScript(\"vega-embed\", \"6\"))\n",
       "        .catch(showError)\n",
       "        .then(() => displayChart(vegaEmbed));\n",
       "    }\n",
       "  })({\"config\": {\"view\": {\"continuousWidth\": 300, \"continuousHeight\": 300}}, \"layer\": [{\"mark\": {\"type\": \"arc\", \"innerRadius\": 20, \"stroke\": \"#fff\"}, \"encoding\": {\"color\": {\"field\": \"values\", \"type\": \"nominal\"}, \"radius\": {\"field\": \"values\", \"scale\": {\"type\": \"sqrt\", \"zero\": true, \"rangeMin\": 20}, \"type\": \"quantitative\"}, \"theta\": {\"field\": \"values\", \"stack\": true, \"type\": \"quantitative\"}}}, {\"mark\": {\"type\": \"text\", \"radiusOffset\": 10}, \"encoding\": {\"color\": {\"field\": \"values\", \"type\": \"nominal\"}, \"radius\": {\"field\": \"values\", \"scale\": {\"type\": \"sqrt\", \"zero\": true, \"rangeMin\": 20}, \"type\": \"quantitative\"}, \"text\": {\"field\": \"values\", \"type\": \"quantitative\"}, \"theta\": {\"field\": \"values\", \"stack\": true, \"type\": \"quantitative\"}}}], \"data\": {\"name\": \"data-f1398f61da05b1c63158b71851fc0c8e\"}, \"$schema\": \"https://vega.github.io/schema/vega-lite/v5.16.3.json\", \"datasets\": {\"data-f1398f61da05b1c63158b71851fc0c8e\": [{\"values\": 12}, {\"values\": 23}, {\"values\": 47}, {\"values\": 6}, {\"values\": 52}, {\"values\": 19}]}}, {\"mode\": \"vega-lite\"});\n",
       "</script>"
      ],
      "text/plain": [
       "alt.LayerChart(...)"
      ]
     },
     "execution_count": 2,
     "metadata": {},
     "output_type": "execute_result"
    }
   ],
   "source": [
    "import pandas as pd\n",
    "import altair as alt\n",
    "\n",
    "source = pd.DataFrame({\"values\": [12, 23, 47, 6, 52, 19]})\n",
    "\n",
    "base = alt.Chart(source).encode(\n",
    "    alt.Theta(\"values:Q\").stack(True),\n",
    "    alt.Radius(\"values\").scale(type=\"sqrt\", zero=True, rangeMin=20),\n",
    "    color=\"values:N\",\n",
    ")\n",
    "\n",
    "c1 = base.mark_arc(innerRadius=20, stroke=\"#fff\")\n",
    "\n",
    "c2 = base.mark_text(radiusOffset=10).encode(text=\"values:Q\")\n",
    "\n",
    "c1 + c2"
   ]
  },
  {
   "cell_type": "code",
   "execution_count": null,
   "id": "57132293-50a9-4690-8346-c6c14522b299",
   "metadata": {},
   "outputs": [],
   "source": []
  }
 ],
 "metadata": {
  "kernelspec": {
   "display_name": "Python 3 (ipykernel)",
   "language": "python",
   "name": "python3"
  },
  "language_info": {
   "codemirror_mode": {
    "name": "ipython",
    "version": 3
   },
   "file_extension": ".py",
   "mimetype": "text/x-python",
   "name": "python",
   "nbconvert_exporter": "python",
   "pygments_lexer": "ipython3",
   "version": "3.11.5"
  }
 },
 "nbformat": 4,
 "nbformat_minor": 5
}
