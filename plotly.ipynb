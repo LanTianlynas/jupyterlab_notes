{
 "cells": [
  {
   "cell_type": "markdown",
   "id": "77d991cc-2a6f-4caf-a6db-4fad12f876c5",
   "metadata": {},
   "source": [
    "https://plotly.com/python-api-reference/plotly.express.html"
   ]
  },
  {
   "cell_type": "markdown",
   "id": "d71804b0-7eee-4a1d-ad2f-5147c78946b9",
   "metadata": {},
   "source": [
    "https://plotly.com/"
   ]
  }
 ],
 "metadata": {
  "kernelspec": {
   "display_name": "Python 3 (ipykernel)",
   "language": "python",
   "name": "python3"
  },
  "language_info": {
   "codemirror_mode": {
    "name": "ipython",
    "version": 3
   },
   "file_extension": ".py",
   "mimetype": "text/x-python",
   "name": "python",
   "nbconvert_exporter": "python",
   "pygments_lexer": "ipython3",
   "version": "3.11.5"
  }
 },
 "nbformat": 4,
 "nbformat_minor": 5
}
