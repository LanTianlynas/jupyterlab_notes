{
 "cells": [
  {
   "cell_type": "code",
   "execution_count": 28,
   "id": "5010a8cc-ad31-427a-b463-cfd8b1dd831e",
   "metadata": {
    "tags": []
   },
   "outputs": [],
   "source": [
    "a = [\"a1\", \"a2\", \"a3\"]\n",
    "b = [\"b1\", \"b2\", \"b3\"]\n",
    "c = [\"c1\", \"c2\", \"c3\", \"c4\", \"c5\"]"
   ]
  },
  {
   "cell_type": "code",
   "execution_count": 30,
   "id": "6b495b3c-b273-4f95-8247-88f8dabb09fb",
   "metadata": {
    "tags": []
   },
   "outputs": [
    {
     "ename": "TypeError",
     "evalue": "'tuple' object is not callable",
     "output_type": "error",
     "traceback": [
      "\u001b[0;31m---------------------------------------------------------------------------\u001b[0m",
      "\u001b[0;31mTypeError\u001b[0m                                 Traceback (most recent call last)",
      "Cell \u001b[0;32mIn[30], line 1\u001b[0m\n\u001b[0;32m----> 1\u001b[0m zipped_ab \u001b[38;5;241m=\u001b[39m \u001b[38;5;28mzip\u001b[39m(a, b)\n",
      "\u001b[0;31mTypeError\u001b[0m: 'tuple' object is not callable"
     ]
    }
   ],
   "source": [
    "zipped_ab = zip(a, b)"
   ]
  },
  {
   "cell_type": "code",
   "execution_count": 29,
   "id": "3b05d1c1-2d20-4ae1-878f-09f80e115fd3",
   "metadata": {
    "tags": []
   },
   "outputs": [
    {
     "ename": "TypeError",
     "evalue": "'tuple' object is not callable",
     "output_type": "error",
     "traceback": [
      "\u001b[0;31m---------------------------------------------------------------------------\u001b[0m",
      "\u001b[0;31mTypeError\u001b[0m                                 Traceback (most recent call last)",
      "Cell \u001b[0;32mIn[29], line 1\u001b[0m\n\u001b[0;32m----> 1\u001b[0m zipped_01 \u001b[38;5;241m=\u001b[39m \u001b[38;5;28mzip\u001b[39m(a, b, c)\n",
      "\u001b[0;31mTypeError\u001b[0m: 'tuple' object is not callable"
     ]
    }
   ],
   "source": [
    "zipped_01 = zip(a, b, c)"
   ]
  },
  {
   "cell_type": "code",
   "execution_count": 4,
   "id": "3ae37aaa-7420-444d-9abf-26ad372076c3",
   "metadata": {
    "tags": []
   },
   "outputs": [
    {
     "name": "stdout",
     "output_type": "stream",
     "text": [
      "<zip object at 0x103ce7fc0>\n"
     ]
    }
   ],
   "source": [
    "print(zipped)"
   ]
  },
  {
   "cell_type": "code",
   "execution_count": 24,
   "id": "d428d985-d00d-4ffd-965f-907678a22963",
   "metadata": {
    "tags": []
   },
   "outputs": [],
   "source": [
    "for zip in zipped:\n",
    "    print(zip)"
   ]
  },
  {
   "cell_type": "code",
   "execution_count": 16,
   "id": "05e9296f-b1e6-4a44-aa33-98800a6531b1",
   "metadata": {
    "tags": []
   },
   "outputs": [
    {
     "ename": "TypeError",
     "evalue": "'tuple' object is not callable",
     "output_type": "error",
     "traceback": [
      "\u001b[0;31m---------------------------------------------------------------------------\u001b[0m",
      "\u001b[0;31mTypeError\u001b[0m                                 Traceback (most recent call last)",
      "Cell \u001b[0;32mIn[16], line 1\u001b[0m\n\u001b[0;32m----> 1\u001b[0m x, y \u001b[38;5;241m=\u001b[39m \u001b[38;5;28mzip\u001b[39m(\u001b[38;5;241m*\u001b[39m\u001b[38;5;28mzip\u001b[39m(a, b))\n",
      "\u001b[0;31mTypeError\u001b[0m: 'tuple' object is not callable"
     ]
    }
   ],
   "source": [
    "x, y = zip(*zip(a, b))"
   ]
  },
  {
   "cell_type": "code",
   "execution_count": null,
   "id": "b3a7b341-f3e2-47a9-80c0-11774627510a",
   "metadata": {},
   "outputs": [],
   "source": []
  }
 ],
 "metadata": {
  "kernelspec": {
   "display_name": "Python 3 (ipykernel)",
   "language": "python",
   "name": "python3"
  },
  "language_info": {
   "codemirror_mode": {
    "name": "ipython",
    "version": 3
   },
   "file_extension": ".py",
   "mimetype": "text/x-python",
   "name": "python",
   "nbconvert_exporter": "python",
   "pygments_lexer": "ipython3",
   "version": "3.11.5"
  }
 },
 "nbformat": 4,
 "nbformat_minor": 5
}
