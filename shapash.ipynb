{
 "cells": [
  {
   "cell_type": "markdown",
   "id": "63ff4656-362b-4101-a77b-d0ac889c2a84",
   "metadata": {},
   "source": [
    "https://github.com/LanTianlynas/shapash"
   ]
  }
 ],
 "metadata": {
  "kernelspec": {
   "display_name": "Python 3 (ipykernel)",
   "language": "python",
   "name": "python3"
  },
  "language_info": {
   "codemirror_mode": {
    "name": "ipython",
    "version": 3
   },
   "file_extension": ".py",
   "mimetype": "text/x-python",
   "name": "python",
   "nbconvert_exporter": "python",
   "pygments_lexer": "ipython3",
   "version": "3.11.5"
  }
 },
 "nbformat": 4,
 "nbformat_minor": 5
}
