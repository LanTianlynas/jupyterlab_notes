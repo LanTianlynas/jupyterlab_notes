{
 "cells": [
  {
   "cell_type": "markdown",
   "id": "f6b66899-3661-44ad-aa4d-391adc6b469a",
   "metadata": {
    "jp-MarkdownHeadingCollapsed": true
   },
   "source": [
    "# zip()函数\n",
    "zip() 函数用于将可迭代的对象作为参数，将对象中对应的元素打包成一个个元组，然后返回由这些元组组成的对象，这样做的好处是节约了不少的内存。\n",
    "\n",
    "我们可以使用 list() 转换来输出列表。\n",
    "\n",
    "如果各个迭代器的元素个数不一致，则返回列表长度与最短的对象相同，利用 * 号操作符，可以将元组解压为列表。"
   ]
  },
  {
   "cell_type": "code",
   "execution_count": 1,
   "id": "cc95f188-a318-49d6-90e5-249ed78367fe",
   "metadata": {
    "tags": []
   },
   "outputs": [],
   "source": [
    "a = [\"a1\", \"a2\", \"a3\"]\n",
    "b = [\"b1\", \"b2\", \"b3\"]\n",
    "c = [\"c1\", \"c2\", \"c3\", \"c4\", \"c5\"]"
   ]
  },
  {
   "cell_type": "code",
   "execution_count": 2,
   "id": "aeca327c-e866-46ca-932c-f903046b9e43",
   "metadata": {
    "tags": []
   },
   "outputs": [],
   "source": [
    "zipped_ab = zip(a, b)"
   ]
  },
  {
   "cell_type": "code",
   "execution_count": 3,
   "id": "7a1f98f5-925e-4c6a-94b9-ce7491b84828",
   "metadata": {
    "tags": []
   },
   "outputs": [],
   "source": [
    "zipped_ac = zip(a, c)"
   ]
  },
  {
   "cell_type": "code",
   "execution_count": 4,
   "id": "783a5637-1450-49fc-a950-067d27f5fe81",
   "metadata": {
    "tags": []
   },
   "outputs": [],
   "source": [
    "zipped_abc = zip(a, b, c)"
   ]
  },
  {
   "cell_type": "code",
   "execution_count": 20,
   "id": "c0223b3f-1ef4-4458-b2dd-5fcc2e08615c",
   "metadata": {
    "tags": []
   },
   "outputs": [
    {
     "name": "stdout",
     "output_type": "stream",
     "text": [
      "<zip object at 0x10a3bdb40>\n"
     ]
    }
   ],
   "source": [
    "print(zip(a, b))"
   ]
  },
  {
   "cell_type": "code",
   "execution_count": 5,
   "id": "f49e12fa-60b9-404f-a3f2-e54edf8343e2",
   "metadata": {
    "tags": []
   },
   "outputs": [
    {
     "data": {
      "text/plain": [
       "[('a1', 'b1'), ('a2', 'b2'), ('a3', 'b3')]"
      ]
     },
     "execution_count": 5,
     "metadata": {},
     "output_type": "execute_result"
    }
   ],
   "source": [
    "list(zip(a,b))"
   ]
  },
  {
   "cell_type": "code",
   "execution_count": 17,
   "id": "fc3abaa6-9dd1-4be5-ae7a-673e2c377898",
   "metadata": {
    "tags": []
   },
   "outputs": [
    {
     "name": "stdout",
     "output_type": "stream",
     "text": [
      "('a1', 'b1') ('a2', 'b2') ('a3', 'b3')\n"
     ]
    }
   ],
   "source": [
    "print(*zip(a, b))"
   ]
  },
  {
   "cell_type": "code",
   "execution_count": 19,
   "id": "cedc952d-4cc7-499d-8507-95da7fcba212",
   "metadata": {
    "tags": []
   },
   "outputs": [
    {
     "data": {
      "text/plain": [
       "[('a1', 'b1'), ('a2', 'b2'), ('a3', 'b3')]"
      ]
     },
     "execution_count": 19,
     "metadata": {},
     "output_type": "execute_result"
    }
   ],
   "source": [
    "[zip for zip in [*zip(a,b)]]"
   ]
  },
  {
   "cell_type": "code",
   "execution_count": 11,
   "id": "d2c6e0d2-a167-4bfb-a6ef-aa543b869c72",
   "metadata": {
    "tags": []
   },
   "outputs": [
    {
     "name": "stdout",
     "output_type": "stream",
     "text": [
      "<zip object at 0x108637200>\n"
     ]
    }
   ],
   "source": [
    "print(zip(*zip(a, b)))"
   ]
  },
  {
   "cell_type": "code",
   "execution_count": 7,
   "id": "ed8164ad-c081-4c41-9fc1-a36a1cce5ff1",
   "metadata": {
    "tags": []
   },
   "outputs": [
    {
     "data": {
      "text/plain": [
       "[('a1', 'a2', 'a3'), ('b1', 'b2', 'b3')]"
      ]
     },
     "execution_count": 7,
     "metadata": {},
     "output_type": "execute_result"
    }
   ],
   "source": [
    "list(zip(*zip(a, b)))"
   ]
  },
  {
   "cell_type": "code",
   "execution_count": 9,
   "id": "06cd573e-593d-4dc0-92d0-e07ed88a81ca",
   "metadata": {
    "tags": []
   },
   "outputs": [
    {
     "data": {
      "text/plain": [
       "[(('a1', 'b1'),), (('a2', 'b2'),), (('a3', 'b3'),)]"
      ]
     },
     "execution_count": 9,
     "metadata": {},
     "output_type": "execute_result"
    }
   ],
   "source": [
    "list(zip(zip(a, b)))"
   ]
  },
  {
   "cell_type": "markdown",
   "id": "ed13de45-2ae1-43be-a718-11ecb3dd2667",
   "metadata": {},
   "source": [
    "***"
   ]
  },
  {
   "cell_type": "markdown",
   "id": "24797b91-9e06-4bae-bf87-e42feace00ad",
   "metadata": {
    "tags": []
   },
   "source": [
    "# itertools "
   ]
  },
  {
   "cell_type": "markdown",
   "id": "2e1d7f9f-3776-4253-aee5-4eb1ae7d283b",
   "metadata": {
    "tags": []
   },
   "source": [
    "![](./pic/itertools_001.png)"
   ]
  },
  {
   "attachments": {},
   "cell_type": "markdown",
   "id": "6e5c5ec2-b488-4913-9bbd-213651880d0d",
   "metadata": {},
   "source": [
    "## count(0)"
   ]
  },
  {
   "cell_type": "markdown",
   "id": "002d2bfb-b3a5-4a05-bee5-7903599314f4",
   "metadata": {
    "tags": []
   },
   "source": [
    "1. count(0)"
   ]
  },
  {
   "cell_type": "code",
   "execution_count": 40,
   "id": "aa5517b4-9dad-4c42-91b4-f9803c515d1f",
   "metadata": {
    "tags": []
   },
   "outputs": [],
   "source": [
    "from itertools import count\n",
    "counter = count(0)"
   ]
  },
  {
   "cell_type": "code",
   "execution_count": 41,
   "id": "f60d9ec7-35df-4c2f-973f-361d8e33931b",
   "metadata": {
    "tags": []
   },
   "outputs": [
    {
     "name": "stdout",
     "output_type": "stream",
     "text": [
      "0\n",
      "1\n",
      "2\n",
      "3\n",
      "4\n",
      "5\n",
      "6\n",
      "7\n",
      "8\n",
      "9\n",
      "10\n"
     ]
    }
   ],
   "source": [
    "for i in counter:\n",
    "    print(i)\n",
    "    if i > 9:\n",
    "        break"
   ]
  },
  {
   "cell_type": "markdown",
   "id": "14862323-8100-4271-98ed-dc48c8c57612",
   "metadata": {},
   "source": [
    "---"
   ]
  },
  {
   "cell_type": "markdown",
   "id": "ada04690-1f3a-4b77-835b-da8e8956655b",
   "metadata": {
    "tags": []
   },
   "source": [
    "2. count(0,5)"
   ]
  },
  {
   "cell_type": "code",
   "execution_count": null,
   "id": "92beaad4-2fa0-4a64-9634-c8b2b023def2",
   "metadata": {},
   "outputs": [],
   "source": []
  }
 ],
 "metadata": {
  "kernelspec": {
   "display_name": "Python 3 (ipykernel)",
   "language": "python",
   "name": "python3"
  },
  "language_info": {
   "codemirror_mode": {
    "name": "ipython",
    "version": 3
   },
   "file_extension": ".py",
   "mimetype": "text/x-python",
   "name": "python",
   "nbconvert_exporter": "python",
   "pygments_lexer": "ipython3",
   "version": "3.11.7"
  }
 },
 "nbformat": 4,
 "nbformat_minor": 5
}
