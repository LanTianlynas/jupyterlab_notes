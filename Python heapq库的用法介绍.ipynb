{
 "cells": [
  {
   "cell_type": "markdown",
   "id": "d3090fa4-69c1-4b48-b6c3-35378ff1537a",
   "metadata": {},
   "source": [
    "https://ioflood.com/blog/using-python-heapq-module-for-heaps-and-priority-queues/\n"
   ]
  },
  {
   "cell_type": "markdown",
   "id": "644abc29-8429-4337-8eec-3149e93f1e5c",
   "metadata": {
    "tags": []
   },
   "source": [
    "https://blog.csdn.net/weixin_43790276/article/details/107741332"
   ]
  },
  {
   "cell_type": "code",
   "execution_count": null,
   "id": "29178121-39f6-41d4-97db-74150ec467bc",
   "metadata": {},
   "outputs": [],
   "source": []
  }
 ],
 "metadata": {
  "kernelspec": {
   "display_name": "Python 3 (ipykernel)",
   "language": "python",
   "name": "python3"
  },
  "language_info": {
   "codemirror_mode": {
    "name": "ipython",
    "version": 3
   },
   "file_extension": ".py",
   "mimetype": "text/x-python",
   "name": "python",
   "nbconvert_exporter": "python",
   "pygments_lexer": "ipython3",
   "version": "3.11.5"
  }
 },
 "nbformat": 4,
 "nbformat_minor": 5
}
